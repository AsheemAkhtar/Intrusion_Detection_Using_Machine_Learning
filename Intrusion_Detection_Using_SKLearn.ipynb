{
  "nbformat": 4,
  "nbformat_minor": 0,
  "metadata": {
    "colab": {
      "provenance": [],
      "gpuType": "T4"
    },
    "kernelspec": {
      "name": "python3",
      "display_name": "Python 3"
    },
    "language_info": {
      "name": "python"
    },
    "accelerator": "GPU"
  },
  "cells": [
    {
      "cell_type": "markdown",
      "source": [
        "## Importing Libraries"
      ],
      "metadata": {
        "id": "o7yYGTtuqH5W"
      }
    },
    {
      "cell_type": "code",
      "source": [
        "import pandas as pd\n",
        "import numpy as np\n",
        "from sklearn.model_selection import train_test_split\n",
        "from sklearn.preprocessing import MinMaxScaler\n",
        "from sklearn.ensemble import RandomForestClassifier, GradientBoostingClassifier\n",
        "from sklearn.linear_model import LogisticRegression\n",
        "from sklearn.metrics import accuracy_score\n",
        "from imblearn.over_sampling import SMOTE\n",
        "import seaborn as sns\n",
        "import kagglehub\n",
        "import matplotlib.pyplot as plt"
      ],
      "metadata": {
        "id": "UoZZ_Calqa1t"
      },
      "execution_count": 4,
      "outputs": []
    },
    {
      "cell_type": "markdown",
      "source": [
        "## Loading The DAtaSet"
      ],
      "metadata": {
        "id": "dZBwJ6gnqcyh"
      }
    },
    {
      "cell_type": "code",
      "source": [
        "from kagglehub import dataset_download\n",
        "path = dataset_download(\"dhoogla/unswnb15\")\n",
        "print(\"Path to dataset files:\", path)\n",
        "\n",
        "train_df = pd.read_parquet(f\"{path}/UNSW_NB15_training-set.parquet\")\n",
        "test_df = pd.read_parquet(f\"{path}/UNSW_NB15_testing-set.parquet\")"
      ],
      "metadata": {
        "colab": {
          "base_uri": "https://localhost:8080/"
        },
        "id": "nud9FywqqtwE",
        "outputId": "d874e6f4-6f1c-4477-f022-589bf5314289"
      },
      "execution_count": 6,
      "outputs": [
        {
          "output_type": "stream",
          "name": "stdout",
          "text": [
            "Warning: Looks like you're using an outdated `kagglehub` version (installed: 0.3.5), please consider upgrading to the latest version (0.3.6).\n",
            "Path to dataset files: /root/.cache/kagglehub/datasets/dhoogla/unswnb15/versions/5\n"
          ]
        }
      ]
    },
    {
      "cell_type": "markdown",
      "source": [
        "## Combine training and testing datasets for preprocessing"
      ],
      "metadata": {
        "id": "OlRTaxmKqwkU"
      }
    },
    {
      "cell_type": "code",
      "source": [
        "data_df = pd.concat([train_df, test_df], ignore_index=True)"
      ],
      "metadata": {
        "id": "vs7Hduues0Mn"
      },
      "execution_count": 7,
      "outputs": []
    },
    {
      "cell_type": "markdown",
      "source": [
        "# Data preprocessing\n",
        "# Selecting numeric columns and remove unnecessary columns"
      ],
      "metadata": {
        "id": "i5FB381xtitx"
      }
    },
    {
      "cell_type": "code",
      "source": [
        "target_col = 'label'\n",
        "numeric_cols = data_df.select_dtypes(include=['int8', 'int16', 'float32', 'bool']).columns\n",
        "data_cols = [col for col in numeric_cols if col != target_col]"
      ],
      "metadata": {
        "id": "dxmC771xs6fp"
      },
      "execution_count": 8,
      "outputs": []
    },
    {
      "cell_type": "markdown",
      "source": [
        "# Spliting back into training and testing sets"
      ],
      "metadata": {
        "id": "T2TsrdektoHl"
      }
    },
    {
      "cell_type": "code",
      "source": [
        "X = data_df[data_cols]\n",
        "y = data_df[target_col]\n",
        "X_train, X_test, y_train, y_test = train_test_split(X, y, test_size=0.2, random_state=42)"
      ],
      "metadata": {
        "id": "Osth-Eu8tS8W"
      },
      "execution_count": 9,
      "outputs": []
    },
    {
      "cell_type": "markdown",
      "source": [
        "# Handling class imbalance"
      ],
      "metadata": {
        "id": "t9YDQDy9twYx"
      }
    },
    {
      "cell_type": "code",
      "source": [
        "smote = SMOTE(random_state=42)\n",
        "X_train_resampled, y_train_resampled = smote.fit_resample(X_train, y_train)"
      ],
      "metadata": {
        "colab": {
          "base_uri": "https://localhost:8080/"
        },
        "id": "P61ggc0EtrM5",
        "outputId": "806a863c-f0fa-44d3-827b-291ce85d4bdd"
      },
      "execution_count": 10,
      "outputs": [
        {
          "output_type": "stream",
          "name": "stderr",
          "text": [
            "/usr/local/lib/python3.10/dist-packages/sklearn/base.py:474: FutureWarning: `BaseEstimator._validate_data` is deprecated in 1.6 and will be removed in 1.7. Use `sklearn.utils.validation.validate_data` instead. This function becomes public and is part of the scikit-learn developer API.\n",
            "  warnings.warn(\n",
            "/usr/local/lib/python3.10/dist-packages/sklearn/utils/_tags.py:354: FutureWarning: The SMOTE or classes from which it inherits use `_get_tags` and `_more_tags`. Please define the `__sklearn_tags__` method, or inherit from `sklearn.base.BaseEstimator` and/or other appropriate mixins such as `sklearn.base.TransformerMixin`, `sklearn.base.ClassifierMixin`, `sklearn.base.RegressorMixin`, and `sklearn.base.OutlierMixin`. From scikit-learn 1.7, not defining `__sklearn_tags__` will raise an error.\n",
            "  warnings.warn(\n"
          ]
        }
      ]
    },
    {
      "cell_type": "markdown",
      "source": [
        "# Scaling features"
      ],
      "metadata": {
        "id": "t_wt5Q1quGfl"
      }
    },
    {
      "cell_type": "code",
      "source": [
        "scaler = MinMaxScaler()\n",
        "X_train_resampled = scaler.fit_transform(X_train_resampled)\n",
        "X_test = scaler.transform(X_test)"
      ],
      "metadata": {
        "id": "J2iJetk4tzeB"
      },
      "execution_count": 11,
      "outputs": []
    },
    {
      "cell_type": "markdown",
      "source": [
        "# Defining classifiers"
      ],
      "metadata": {
        "id": "JFPxIB9zuNyK"
      }
    },
    {
      "cell_type": "code",
      "source": [
        "classifiers = {\n",
        "    \"Logistic Regression\": LogisticRegression(max_iter=1000, random_state=42),\n",
        "    \"Random Forest\": RandomForestClassifier(random_state=42),\n",
        "    \"Gradient Boosting\": GradientBoostingClassifier(random_state=42)\n",
        "}"
      ],
      "metadata": {
        "id": "okrhyN3muJ-c"
      },
      "execution_count": 12,
      "outputs": []
    },
    {
      "cell_type": "markdown",
      "source": [
        "# Training and evaluating classifiers"
      ],
      "metadata": {
        "id": "g9EeLoNIuVGz"
      }
    },
    {
      "cell_type": "code",
      "source": [
        "best_model = None\n",
        "best_accuracy = 0\n",
        "results = {}"
      ],
      "metadata": {
        "id": "JBP2V9uUuRKH"
      },
      "execution_count": 13,
      "outputs": []
    },
    {
      "cell_type": "code",
      "source": [
        "for name, model in classifiers.items():\n",
        "    model.fit(X_train_resampled, y_train_resampled)\n",
        "    y_pred = model.predict(X_test)\n",
        "    accuracy = accuracy_score(y_test, y_pred)\n",
        "    results[name] = accuracy\n",
        "\n",
        "    if accuracy > best_accuracy:\n",
        "        best_model = model\n",
        "        best_accuracy = accuracy"
      ],
      "metadata": {
        "id": "DY_4MoiZuaz2"
      },
      "execution_count": 14,
      "outputs": []
    },
    {
      "cell_type": "markdown",
      "source": [
        "# Printing results"
      ],
      "metadata": {
        "id": "DI-0r5V3vbAa"
      }
    },
    {
      "cell_type": "code",
      "source": [
        "print(\"Classifier Performance:\")\n",
        "for name, accuracy in results.items():\n",
        "    print(f\"{name}: {accuracy:.4f}\")\n",
        "\n",
        "print(\"\\nBest Classifier:\", best_model)"
      ],
      "metadata": {
        "colab": {
          "base_uri": "https://localhost:8080/"
        },
        "id": "Wv6UalQbufIk",
        "outputId": "079db1c6-1a3e-4eb7-f8db-aad8c344a3b2"
      },
      "execution_count": 15,
      "outputs": [
        {
          "output_type": "stream",
          "name": "stdout",
          "text": [
            "Classifier Performance:\n",
            "Logistic Regression: 0.7913\n",
            "Random Forest: 0.9350\n",
            "Gradient Boosting: 0.9146\n",
            "\n",
            "Best Classifier: RandomForestClassifier(random_state=42)\n"
          ]
        }
      ]
    },
    {
      "cell_type": "markdown",
      "source": [
        "# Visualizing results"
      ],
      "metadata": {
        "id": "H-ZXYQ6qvmmX"
      }
    },
    {
      "cell_type": "code",
      "source": [
        "plt.bar(results.keys(), results.values(), color='skyblue')\n",
        "plt.title(\"Classifier Accuracy Comparison\")\n",
        "plt.ylabel(\"Accuracy\")\n",
        "plt.xticks(rotation=45)\n",
        "plt.show()"
      ],
      "metadata": {
        "colab": {
          "base_uri": "https://localhost:8080/",
          "height": 542
        },
        "id": "89xeFP_HvewX",
        "outputId": "75eda26a-82f1-4155-f4e5-3b37aa179786"
      },
      "execution_count": 16,
      "outputs": [
        {
          "output_type": "display_data",
          "data": {
            "text/plain": [
              "<Figure size 640x480 with 1 Axes>"
            ],
            "image/png": "[encoded data removed]"
          },
          "metadata": {}
        }
      ]
    },
    {
      "cell_type": "code",
      "source": [],
      "metadata": {
        "id": "zNYS3OtZvsrD"
      },
      "execution_count": null,
      "outputs": []
    }
  ]
}